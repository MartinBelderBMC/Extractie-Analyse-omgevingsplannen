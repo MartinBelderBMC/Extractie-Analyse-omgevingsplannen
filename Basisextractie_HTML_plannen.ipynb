{
  "cells": [
    {
      "cell_type": "markdown",
      "metadata": {
        "id": "view-in-github",
        "colab_type": "text"
      },
      "source": [
        "<a href=\"https://colab.research.google.com/github/MartinBelderBMC/Extractie-Analyse-omgevingsplannen/blob/main/Basisextractie_HTML_plannen.ipynb\" target=\"_parent\"><img src=\"https://colab.research.google.com/assets/colab-badge.svg\" alt=\"Open In Colab\"/></a>"
      ]
    },
    {
      "cell_type": "markdown",
      "metadata": {
        "id": "_BIN01ytLOhd"
      },
      "source": [
        "# Omgeving opzetten"
      ]
    },
    {
      "cell_type": "code",
      "execution_count": null,
      "metadata": {
        "id": "m5-DYFFufG3Q"
      },
      "outputs": [],
      "source": [
        "import os, re, itertools, requests\n",
        "import urllib.request\n",
        "\n",
        "import pandas as pd\n",
        "import numpy as np\n",
        "\n",
        "from bs4 import BeautifulSoup\n",
        "\n",
        "from itertools import chain\n",
        "\n",
        "from google.colab import drive\n",
        "\n",
        "from io import BytesIO"
      ]
    },
    {
      "cell_type": "code",
      "execution_count": null,
      "metadata": {
        "colab": {
          "base_uri": "https://localhost:8080/"
        },
        "id": "1FaZtakK6j3R",
        "outputId": "e687d403-3983-483e-c033-c22d37a6b95a"
      },
      "outputs": [
        {
          "output_type": "stream",
          "name": "stdout",
          "text": [
            "Mounted at /content/gdrive\n"
          ]
        }
      ],
      "source": [
        "drive.mount('/content/gdrive')"
      ]
    },
    {
      "cell_type": "code",
      "execution_count": null,
      "metadata": {
        "id": "RC23Ud0X6nHJ"
      },
      "outputs": [],
      "source": [
        "# Voor hier de geprefereerde werkmap in\n",
        "\n",
        "werkmap = \"\"\n",
        "\n",
        "resultaten_map = os.path.join(werkmap, \"Resultaten\")"
      ]
    },
    {
      "cell_type": "markdown",
      "metadata": {
        "id": "tOEhNEENLVX-"
      },
      "source": [
        "# Definitie functies voor extractie lijst voor parsing"
      ]
    },
    {
      "cell_type": "code",
      "execution_count": null,
      "metadata": {
        "id": "VvYUIUG-7aOI"
      },
      "outputs": [],
      "source": [
        "# @title\n",
        "def extract_raw_html(url = str):\n",
        "\n",
        "  \"\"\"Deze functie extraheert de html-string van een specifieke url en\n",
        "  encodeert deze in utf-8\n",
        "\n",
        "  Inputs:\n",
        "  - url: string met adres\n",
        "\n",
        "  Output:\n",
        "  - string van ruwe html\"\"\"\n",
        "\n",
        "  response = urllib.request.urlopen(url)\n",
        "\n",
        "  return response.read().decode('utf-8')"
      ]
    },
    {
      "cell_type": "code",
      "execution_count": null,
      "metadata": {
        "id": "BVUPdh7-8H-n"
      },
      "outputs": [],
      "source": [
        "# @title\n",
        "def create_archive_link_from_IMRO(IMRO = str, base_link = str):\n",
        "\n",
        "  \"\"\"Deze functie maakt een een link aan naar het\n",
        "  archief van een specifieke IMRO\n",
        "\n",
        "  Input:\n",
        "  - IMRO: string van het IMRO-plan\n",
        "  - base_link: string van de link naar het basisarchief van de gemeente in kwestie\"\"\n",
        "\n",
        "  Output:\n",
        "  - string van de link naar het archief van het IMRO\"\"\"\n",
        "\n",
        "  return base_link + IMRO"
      ]
    },
    {
      "cell_type": "code",
      "execution_count": null,
      "metadata": {
        "id": "YzPr1ra_-6rF"
      },
      "outputs": [],
      "source": [
        "# @title\n",
        "def extract_regel_htmls(archief_html = str,\n",
        "                        IMRO = str,\n",
        "                        link_regex = \"\"\"<(?:A HREF|a href)=(?:'|\")(.+?)(?:'|\")(?:>|\\s)\"\"\"):\n",
        "\n",
        "  \"\"\"Deze functie extraheert een lijst met htmls waarin regels te vinden zijn\n",
        "  uit het archief van een specifieke IMRO\n",
        "\n",
        "  Input:\n",
        "  - archief_html: string van de html van het archief van het IMRO\n",
        "  - IMRO: string van het IMRO-plan\n",
        "  - link_regex = string met regex van links naar htmls waarin regels te vinden zijn\n",
        "\n",
        "\n",
        "  Output:\n",
        "  - lijst met regel-htmls\n",
        "\n",
        "  \"\"\"\n",
        "  # Maak lijst met hrefs, zoals gextraheerd door regex\n",
        "  href_list = re.findall(link_regex, archief_html)\n",
        "\n",
        "  # Iteratie door lijst met regex: als prefix 'r_' in href voorkomt, gevolgd\n",
        "  # door de IMRO-code, extraheer de link vanaf de eerste plaats vanaf rechts waar\n",
        "  # '/' geovnden wordt\n",
        "  match_list = [href[href.rfind(\"/\") + 1:] for href\n",
        "                in href_list\n",
        "                if 'r_' + IMRO in href and href[-5:] == '.html']\n",
        "\n",
        "  # Als er geen matches zijn, return lege lijst\n",
        "  if len(match_list) == 0:\n",
        "\n",
        "    return []\n",
        "\n",
        "  else:\n",
        "\n",
        "    return match_list"
      ]
    },
    {
      "cell_type": "code",
      "execution_count": null,
      "metadata": {
        "id": "GPrVNyCY-RA3"
      },
      "outputs": [],
      "source": [
        "# @title\n",
        "def maak_dict_met_te_parsen_htmls_per_IMRO(parse_plans, base_link):\n",
        "\n",
        "  \"\"\"Deze functie neemt een lijst met de te parsen IMRO's en maakt\n",
        "  een dictionary aan van alle htmls met regels per IMRO\n",
        "\n",
        "  Input:\n",
        "  - parse_plans: dict met parsing-informatie per plan\n",
        "\n",
        "  Output:\n",
        "  - extract_regels_dict: dict met per IMRO een lijst met de link naar de\n",
        "    htmls die te extraheren regels bevatten\"\"\"\n",
        "\n",
        "  extract_regels_dict = {}\n",
        "\n",
        "  # Itereer door alle IMRO-codes\n",
        "  for IMRO in [parse_plans[key]['Code'] for key in parse_plans.keys()]:\n",
        "\n",
        "\n",
        "    # Maak een link naar het archief per IMRO\n",
        "    full_link = create_archive_link_from_IMRO(IMRO, base_link)\n",
        "\n",
        "    print('IMRO: ', full_link)\n",
        "\n",
        "    # Extraheer het archief per IMRO\n",
        "    raw_html = extract_raw_html(full_link)\n",
        "\n",
        "    # Extraheer de htmls met regels\n",
        "    regel_html_list = extract_regel_htmls(raw_html, IMRO)\n",
        "\n",
        "    # Maak lijst aan met volledige link van elke regel_html per IMRO en schrijf\n",
        "    # deze naar extract_regels_dict\n",
        "    extract_regels_dict[IMRO] = [create_archive_link_from_IMRO(IMRO, base_link) + '/' + regel_html\n",
        "                                 for regel_html in regel_html_list]\n",
        "\n",
        "  return extract_regels_dict"
      ]
    },
    {
      "cell_type": "markdown",
      "metadata": {
        "id": "KwhZbWthLo_d"
      },
      "source": [
        "# Aanmaken van extractielijst"
      ]
    },
    {
      "cell_type": "markdown",
      "metadata": {
        "id": "m8ktaZiBI9xr"
      },
      "source": [
        "## **Beschrijving werkwijze:**\n",
        "\n",
        "**Stap 1: Het extraheren van de lijst met te parsen html bestanden**\n",
        "\n",
        "---\n",
        "\n",
        "\n",
        "\n",
        "\n",
        "We doorzoeken de index van manifestloacaties van ruimtelijkeplannen.nl. Dit archief bevat een sub-archief van ruimtelijke plannen per gemeente. De variabele \"base_link\" is de link naar het archief van een specifieke gemeente.\n",
        "\n",
        "\n",
        "---\n",
        "\n",
        "\n",
        "\n",
        "\n",
        "We zoeken vervolgens in het archief de specifieke plannen die zijn aangeleverd. De plannen hebben allemaal een 'IMRO'-code. De relevante IMRO-codes worden vooraf aangeleverd. Deze hebben we opgeslagen in het dictionary 'parse_plans'. In dit dictionary is de key de naam van het plan. De IMRO-code is te vinden in het onderliggende dictionary achter de key 'Code'\n",
        "\n",
        "\n",
        "\n",
        "---\n",
        "\n",
        "\n",
        "Het archief per IMRO is doorgaans in twee varianten beschikbaar: een archief met alle regels en hoofstukken in een enkele html, of een html per artikel. Daarom parsen we het archief of alle htmls die het prefix 'r_' hebben, gevolgd door de IMRO_code. Dit zijn de htmls die de te extraheren regels bevatten.\n",
        "\n",
        "\n",
        "\n",
        "---\n",
        "\n",
        "\n",
        "We voeren de functie \"***maak_dict_met_te_parsen_htmls_per_IMRO***\" uit om een dictionary met de links naar alle relevante htmls per IMRO aan te maken\n",
        "\n"
      ]
    },
    {
      "cell_type": "code",
      "execution_count": null,
      "metadata": {
        "id": "StwIgqzsaCqt"
      },
      "outputs": [],
      "source": [
        "# Voer hier de te parsen plannen in in onderstaand format\n",
        "parse_plans  = {'Naam HTML' {\"Code\" : \"IMRO Code\" }}"
      ]
    },
    {
      "cell_type": "code",
      "execution_count": null,
      "metadata": {
        "id": "wgajmMBL-Ydy"
      },
      "outputs": [],
      "source": [
        "# @title\n",
        "parse_plans = {name: plan_dict for name, plan_dict in list(parse_plans.items())}"
      ]
    },
    {
      "cell_type": "code",
      "execution_count": null,
      "metadata": {
        "colab": {
          "base_uri": "https://localhost:8080/"
        },
        "id": "dJJX50GXFhDP",
        "outputId": "dd77172c-b217-4810-d194-0e83cf9dccc0"
      },
      "outputs": [
        {
          "output_type": "stream",
          "name": "stdout",
          "text": [
            "IMRO:  https://www.amersfoort.nl/ro-online/NL.IMRO.0307.BP00070-0303\n"
          ]
        }
      ],
      "source": [
        "# Voer hier de link naar het archief in\n",
        "base_link =  ''\n",
        "\n",
        "extract_regels_dict = maak_dict_met_te_parsen_htmls_per_IMRO(parse_plans, base_link)"
      ]
    },
    {
      "cell_type": "markdown",
      "metadata": {
        "id": "24HFWnfqLw36"
      },
      "source": [
        "# Definitie van functies voor parsen van de structuur van HTML"
      ]
    },
    {
      "cell_type": "code",
      "execution_count": null,
      "metadata": {
        "id": "ntpHLKWVIhiJ"
      },
      "outputs": [],
      "source": [
        "def extract_cell_markers_from_html(response_per_html = str):\n",
        "\n",
        "  \"\"\"Deze functie parset de ruwe html: er zijn twee typen markers in de html-string\n",
        "  die van belang zijn: markers die aangeven dat er  een nieuwe cel begint en markers\n",
        "  die aangeven dat een cel sluit. Elke instantie van een cel-sluiter hoort bij\n",
        "  de meest recent gevonden cell opent. We extraheren daarmee twee lijsten, met voor\n",
        "  beide type marker de locatie, de string van de marker en een variabele die aangeeft\n",
        "  of de gevonden marker een cel-opener of en cel-sluiter is. Deze lijsten voegen we\n",
        "  samen en sorteren we op de locatie van de marker\n",
        "\n",
        "  Inputs:\n",
        "  - ruwe html\n",
        "\n",
        "  Outputs:\n",
        "  - lijst met tuple (integer van locatie, string van marker, type marker)\"\"\"\n",
        "\n",
        "  cell_openers = [(mt.end(), mt.group() ,'open') for mt in re.finditer(r'(<div.*?(?<!/)>)', response_per_html)]\n",
        "\n",
        "  cell_closers = [(mt.start(), mt.group(), 'close') for mt in re.finditer(r'</div.*?>', response_per_html)]\n",
        "\n",
        "  marker_tuples = cell_openers + cell_closers\n",
        "\n",
        "  return sorted(marker_tuples, key = lambda x: x[0])"
      ]
    },
    {
      "cell_type": "code",
      "execution_count": null,
      "metadata": {
        "id": "AkuFJn4N7VNf"
      },
      "outputs": [],
      "source": [
        "def extract_metadata_from_cell_opener(opener_text = str, metadata_types = [\"class\", \"div id\"]):\n",
        "\n",
        "  \"\"\"Deze functie extraheert de metadata per cel indien deze beschikbaar is\n",
        "\n",
        "  Inputs:\n",
        "  - opener_text: string met de content van de cel-opener marker\n",
        "  - metadata_types: lijst met typen metadata die geextraheerd moeten worden\n",
        "\n",
        "  Outputs:\n",
        "  - dict met metadata\n",
        "  \"\"\"\n",
        "\n",
        "  # Lege 'default'  dictionary\n",
        "  meta_extract = {metadata_type: None for metadata_type in metadata_types}\n",
        "\n",
        "  # Itereer door de opgegeven metadata_types\n",
        "  for metadata_type in metadata_types:\n",
        "\n",
        "    # als het metadata-type in de tekst voorkomt\n",
        "    if metadata_type in opener_text:\n",
        "\n",
        "      # pak stuk tekst vanaf de plaats dat metadata-type wordt gevonden\n",
        "      text_from_meta_marker = opener_text[opener_text.find(metadata_type):]\n",
        "\n",
        "      # bepaal de locatie van de eerstvolgende 2 quotes\n",
        "      quote_locs = [mt.start() for mt in re.finditer(r'\"', text_from_meta_marker)][:2]\n",
        "\n",
        "      # extraheer stuk tussen de quotes en schrijf weg naar dictionary\n",
        "      meta_extract[metadata_type] = text_from_meta_marker[quote_locs[0] + 1: quote_locs[1]]\n",
        "\n",
        "  return meta_extract"
      ]
    },
    {
      "cell_type": "code",
      "execution_count": null,
      "metadata": {
        "id": "iMcwYbB5O1GU"
      },
      "outputs": [],
      "source": [
        "def parse_cell_structure(sorted_marker_tuples = list, max_depth = 10):\n",
        "\n",
        "  \"\"\"Deze functie analyseert de celstructuur van een html, dit doet de functie\n",
        "  door te itereren door de lijst met markers en aan de hand daarvan te bepalen\n",
        "  1) welke cellen onderdeel zijn van welke andere cellen en\n",
        "  2) op welke 'diepte' specifieke cellen vallen\n",
        "  3) en waar mogelijk metadata per cel te extraheren\n",
        "\n",
        "  De informatie over de diepte en de celstructuur wordt weergegeven door een lijst\n",
        "  van getallen die een boomstructuur representeren. Van rechty naar links, vanaf\n",
        "  het eerste niet-nul element geeft de reeks getallen de nummering van de node die\n",
        "  de 'ouder'-node zijn van de node in kwestie\n",
        "\n",
        "  Deze functie itereert over de gevonden cellen en bepaalt op welke diepte de cel\n",
        "  valt en de hoeveelste cel op deze diepte het betreft.\n",
        "\n",
        "  Daarnaast wordt in deze iteratie per celopener de beschikbare metadata geextraheerd\n",
        "\n",
        "  Inputs:\n",
        "  - sorted_marker_tuples: lijst van tuples, output van \"extract_cell_markers_from_html\"\n",
        "  - max_depth: integer die aangeeft hoe diep de cellen kunnen zijn\n",
        "\n",
        "  Outputs:\n",
        "  - extracted_cells: dict met als key een een lijst\n",
        "\n",
        "  \"\"\"\n",
        "\n",
        "  # Stel in: de startdiepte van waarop nodes worden geteld\n",
        "  cell_level = 0\n",
        "\n",
        "  # Dictionary om resultaten weg te schrijven\n",
        "  extracted_cells = {}\n",
        "\n",
        "  # Lege lijst om als 'geheugen'  van gevonden celopeners te dienen\n",
        "  cell_openers = []\n",
        "\n",
        "  # Bepaal de maximale lengte van de lijst van getallen oftewel maximale\n",
        "  # boomdiepte, default diepte is 10\n",
        "  cell_key = [0] * max_depth\n",
        "\n",
        "  # Itereer door lijst met marker tuples\n",
        "  for marker_pos, marker, marker_typ in sorted_marker_tuples:\n",
        "\n",
        "    # Als de marker in kwestie een 'opener'-marker is:\n",
        "    if marker_typ == 'open':\n",
        "      # tel op de actuele diepte een node\n",
        "      cell_key[cell_level] += 1\n",
        "\n",
        "      # extraheer de metadata\n",
        "      opener_metadata = extract_metadata_from_cell_opener(opener_text = marker, metadata_types = [\"class\", \"div id\"])\n",
        "\n",
        "      # voeg de startnode toe aan het geheugen: positie, marker tekst, actuele cel-key, geextraheerde metadata\n",
        "      cell_openers.append((marker_pos, marker, marker_typ, cell_key.copy(), opener_metadata))\n",
        "\n",
        "      # verhoog de actuele diepte met 1\n",
        "      cell_level += 1\n",
        "\n",
        "    # Als de marker in kwestie een 'closer'-marker is\n",
        "    elif marker_typ == 'close':\n",
        "\n",
        "      # extraheer de corresponderende 'opener'-positie uit het laatste record in het 'geheugen'\n",
        "      opener_pos = cell_openers[-1][0]\n",
        "\n",
        "      # extraheer de key van de cel uit het geheugen\n",
        "      extracted_cell_key = cell_openers[-1][3]\n",
        "\n",
        "      # extraheer de metadata van de cel uit het geheugen\n",
        "      cell_metadata = cell_openers[-1][4]\n",
        "\n",
        "      # schrijf cel weg in dictionary\n",
        "      extracted_cells[tuple(extracted_cell_key)] = {'startpositie cel': opener_pos, 'sluitpositie cel' : marker_pos} | cell_metadata\n",
        "\n",
        "      # verwijder laatste record uit geheugen\n",
        "      cell_openers = cell_openers[:-1]\n",
        "\n",
        "      # zet teller voor het huidige niveau terug naar 0\n",
        "      cell_key[cell_level] = 0\n",
        "\n",
        "      # stel de actuele diepte voor celextractie 1 stap lager\n",
        "      cell_level -= 1\n",
        "\n",
        "  return extracted_cells"
      ]
    },
    {
      "cell_type": "code",
      "source": [
        "def bepaal_unieke_content_per_cell(response_per_html: str, html_structure: dict):\n",
        "\n",
        "  \"\"\"Deze functie bepaalt per cel de unieke tekst, als in: de tekst per cel die\n",
        "  *niet* ook in een 'kind' van de cel staat. Dit doen we door eerst de volledige\n",
        "  inhoud per cel te extraheren op basis van de start- en sluitpositie van de cel\n",
        "  \"\"\"\n",
        "\n",
        "  # Maak een dictionary aan met per cel een lege lijst\n",
        "  content_per_cell = {cell_id:  response_per_html[cell_content['startpositie cel']: cell_content['sluitpositie cel']]\n",
        "                      for cell_id, cell_content in html_structure.items()}\n",
        "\n",
        "  # itereer door de geparsete structuur van de html\n",
        "  for cell_id, cell_content in html_structure.items():\n",
        "\n",
        "    # bepaal de 'parent' cell van elke cel\n",
        "    cell_id_cutoff = len([val for val in cell_id if val > 0]) - 1\n",
        "\n",
        "    # als uit de cell_id blijkt dat het de 'root' is, sla deze cel over aangezien\n",
        "    # deze geen parent heeft\n",
        "    if cell_id_cutoff == 0: continue\n",
        "\n",
        "    parent_cell_id = cell_id[:cell_id_cutoff] + (0,) + cell_id[cell_id_cutoff + 1:]\n",
        "\n",
        "    # bepaal het gedeelte van de html_string dat verwijderd mag worden van de parent\n",
        "    # cell omdat het in een 'kind'-cel staat\n",
        "    delete_slice = response_per_html[cell_content['startpositie cel']: cell_content['sluitpositie cel']]\n",
        "\n",
        "    content_per_cell[parent_cell_id] = content_per_cell[parent_cell_id].replace(delete_slice, '')\n",
        "\n",
        "  return content_per_cell"
      ],
      "metadata": {
        "id": "JCn6KR7V_n2J"
      },
      "execution_count": null,
      "outputs": []
    },
    {
      "cell_type": "code",
      "source": [
        "def maak_key_per_cel(content_per_cell,\n",
        "                     regex_key_extraction = r'<h[0-9].*>(.*)<\\/h[0-9]>',\n",
        "                     regex_key_level = r'[0-9](?:\\.| )'):\n",
        "\n",
        "  \"\"\"Deze functie extraheert per cel de eventuele string die de key bevat en het niveau waarop deze zich bevindt\"\"\"\n",
        "\n",
        "  # Lege dict aanmaken\n",
        "  key_per_cell = {cell_id: None for cell_id in content_per_cell.keys()}\n",
        "\n",
        "  # Iteratie door de tuple van cell id en content\n",
        "  for cell_id, cell_content in content_per_cell.items():\n",
        "\n",
        "    # Stel vast of de cel een key/titel bevat\n",
        "    raw_key_extract = re.findall(regex_key_extraction, cell_content)\n",
        "\n",
        "    if len(raw_key_extract) > 0:\n",
        "\n",
        "      key = raw_key_extract[0]\n",
        "\n",
        "      raw_key_level = re.findall(regex_key_level, key)\n",
        "\n",
        "      key_per_cell[cell_id] = {'key':  key, 'level' : len(raw_key_level)}\n",
        "\n",
        "    else:\n",
        "\n",
        "      key_per_cell[cell_id] = {'key':  '', 'level' : -99}\n",
        "\n",
        "  return key_per_cell"
      ],
      "metadata": {
        "id": "yDnBTmpsMfn3"
      },
      "execution_count": null,
      "outputs": []
    },
    {
      "cell_type": "code",
      "source": [
        "def groepeer_cellen_onder_keys(content_per_cell, key_per_cell):\n",
        "\n",
        "  grouped_cells = content_per_cell.copy()\n",
        "\n",
        "  grouped_cells_keys = key_per_cell.copy()\n",
        "\n",
        "  for cell_id, key_info in key_per_cell.items():\n",
        "\n",
        "    # bepaal op welk punt de key moet worden aangepast om ofwel de 'parent' of de 'sibling' te vinden\n",
        "    cell_id_cutoff = len([val for val in cell_id if val > 0]) - 1\n",
        "\n",
        "    # bepaal de 'parent' cell: zelfde key, verander de laatste niet-nul waarde in de lijst naar nul\n",
        "    parent_cell_id = cell_id[:cell_id_cutoff] + (0,) + cell_id[cell_id_cutoff + 1:]\n",
        "\n",
        "    # bepaal de 'sibling' cell: zelfde key, trek 1 af bij de laatste niet-nul waarde in de lijst\n",
        "    sibling_cell_id = cell_id[:cell_id_cutoff] + (cell_id[cell_id_cutoff] - 1,) + cell_id[cell_id_cutoff + 1:]\n",
        "\n",
        "    # als de cel in kwestie geen key bevat\n",
        "    if key_info['key'] == '':\n",
        "\n",
        "      # check of de cel een 'sibling' heeft. ALs dit het geval is, voeg de content\n",
        "      # toe aan sibling\n",
        "      if sibling_cell_id in grouped_cells.keys():\n",
        "\n",
        "        grouped_cells[sibling_cell_id] += grouped_cells[cell_id]\n",
        "\n",
        "        grouped_cells.pop(cell_id)\n",
        "\n",
        "        grouped_cells_keys.pop(cell_id)\n",
        "\n",
        "\n",
        "      elif parent_cell_id in grouped_cells.keys():\n",
        "\n",
        "        grouped_cells[parent_cell_id] += grouped_cells[cell_id]\n",
        "\n",
        "        grouped_cells.pop(cell_id)\n",
        "\n",
        "        grouped_cells_keys.pop(cell_id)\n",
        "\n",
        "      else: continue\n",
        "\n",
        "  return grouped_cells, grouped_cells_keys"
      ],
      "metadata": {
        "id": "mNXQd7TsaTFG"
      },
      "execution_count": null,
      "outputs": []
    },
    {
      "cell_type": "code",
      "source": [
        "# @title\n",
        "def bepaal_cellen_volledige_key(grouped_cells_keys):\n",
        "\n",
        "  keys_in_html = set([key_info['level'] for key_info in grouped_cells_keys.values()])\n",
        "\n",
        "  cell_ids_per_level = {level: [cell_id for cell_id in grouped_cells_keys.keys()\n",
        "                                if grouped_cells_keys[cell_id]['level'] == level]\n",
        "                        for level in keys_in_html}\n",
        "\n",
        "  full_cell_ids = {cell_id: [cell_id] for cell_id in  grouped_cells_keys.keys()}\n",
        "\n",
        "  for key_level in list(keys_in_html):\n",
        "\n",
        "    for cell_id in cell_ids_per_level[key_level]:\n",
        "\n",
        "      # bepaal op welk punt de key moet worden aangepast om ofwel de 'parent' of de 'sibling' te vinden\n",
        "      cell_id_cutoff = len([val for val in cell_id if val > 0]) - 1\n",
        "\n",
        "      # bepaal de 'parent' cell: zelfde key, verander de laatste niet-nul waarde in de lijst naar nul\n",
        "      parent_cell_id = cell_id[:cell_id_cutoff] + (0,) + cell_id[cell_id_cutoff + 1:]\n",
        "\n",
        "      if parent_cell_id in grouped_cells_keys.keys():\n",
        "\n",
        "        full_cell_ids[cell_id] = full_cell_ids[parent_cell_id] + [cell_id]\n",
        "\n",
        "  return full_cell_ids"
      ],
      "metadata": {
        "id": "C83M9JolN5zS",
        "cellView": "form"
      },
      "execution_count": null,
      "outputs": []
    },
    {
      "cell_type": "code",
      "source": [
        "# @title\n",
        "def voeg_key_bij_inhoud(grouped_cells, grouped_cells_keys,\n",
        "                        full_cell_keys_per_grouped_cell):\n",
        "\n",
        "  content_per_key = {}\n",
        "\n",
        "  for cell_id in grouped_cells.keys():\n",
        "\n",
        "    ids_full_key = full_cell_keys_per_grouped_cell[cell_id]\n",
        "\n",
        "    full_key = [grouped_cells_keys[key_cell_id]['key'] for key_cell_id in ids_full_key]\n",
        "\n",
        "    content_per_key[tuple(full_key)] = grouped_cells[cell_id]\n",
        "\n",
        "  return content_per_key"
      ],
      "metadata": {
        "id": "i0xk_6RK6F31",
        "cellView": "form"
      },
      "execution_count": null,
      "outputs": []
    },
    {
      "cell_type": "code",
      "source": [
        "# @title\n",
        "def opschonen_key_en_inhoud(content_per_key, regex_key_level = r'((?:[0-9]{1,2}(?:\\.| )){1,3})'):\n",
        "\n",
        "  clean_content_per_clean_key = {}\n",
        "\n",
        "  for key, content in content_per_key.items():\n",
        "\n",
        "    clean_key = []\n",
        "\n",
        "    for key_item in key:\n",
        "\n",
        "      if 'hoofdstuk' in key_item.lower(): continue\n",
        "\n",
        "      delete_string = re.findall(regex_key_level, key_item)\n",
        "\n",
        "      if len(delete_string) > 0:\n",
        "\n",
        "        clean_key_item = key_item\\\n",
        "                          .replace(delete_string[0], '')\\\n",
        "                          .lower()\\\n",
        "                          .strip()\\\n",
        "                          .replace('\\t', '')\\\n",
        "                          .replace('\\n', '')\\\n",
        "                          .replace(':','')\n",
        "\n",
        "        clean_key.append(clean_key_item)\n",
        "\n",
        "      else:\n",
        "\n",
        "        clean_key.append(key_item)\n",
        "\n",
        "    if len(clean_key) > 1:\n",
        "\n",
        "      clean_key = tuple(clean_key) + ('geen_key', ) * (3 - len(clean_key))\n",
        "\n",
        "      clean_content = BeautifulSoup(content, 'lxml').text\n",
        "\n",
        "      clean_content_per_clean_key[clean_key] = clean_content\n",
        "\n",
        "  return clean_content_per_clean_key"
      ],
      "metadata": {
        "id": "db7X-QUF-dHU",
        "cellView": "form"
      },
      "execution_count": null,
      "outputs": []
    },
    {
      "cell_type": "code",
      "source": [
        "# @title\n",
        "def test_result_per_IMRO(IMRO):\n",
        "\n",
        "  test_result = pd.DataFrame(index = pd.MultiIndex.from_tuples(parse_dict_per_IMRO[IMRO].keys()),\n",
        "                             data = parse_dict_per_IMRO[IMRO].values())\n",
        "\n",
        "  return test_result"
      ],
      "metadata": {
        "id": "xiZQm7jPby6A",
        "cellView": "form"
      },
      "execution_count": null,
      "outputs": []
    },
    {
      "cell_type": "code",
      "execution_count": null,
      "metadata": {
        "id": "29MB8TVmM5wq",
        "cellView": "form"
      },
      "outputs": [],
      "source": [
        "# @title\n",
        "def integriteitscheck_html(test_structure_frame, class_types = ['artikel', 'lid', 'sublid']):\n",
        "\n",
        "  \"\"\"Deze functie voert een check uit op de integriteit van de extractie per html.\n",
        "  Het concept is als volgt:\n",
        "  Het script gaat de vooraf geconfigureerde hiërarchie van typen  cel af (default is\n",
        "  'artikel', 'lid', 'sublid', een hiërarchie met andere namen kan worden gespcecifieerd)\n",
        "  en checkt of ieder sublid binnen een lid valt en ieder lid binnen een artikel.\n",
        "  Bijgehouden wordt of er 'ongeplaatse' cellen van ieder type zijn. Daarnaast wordt ook\n",
        "  geteld hoeveel verchillende cellen er zijn  van ieder type.\n",
        "\n",
        "  Inputs:\n",
        "  - test_structure_frame: Pandas dataframe met de gevonden cellen: de index is de\n",
        "    celkey zoals bepaald door parse_cell_structure. De kolommen zijn: 'startpositie cel',\n",
        "    'sluitpositie cel', 'class', 'div id';\n",
        "  - class_types: list met strings van de benamingen van cellen, van links naar rechts\n",
        "    hoger naar lager in de hiërarchie.\n",
        "\n",
        "  Outputs:\n",
        "  - dictionary met per html de tellingen van 'ongeplaatste' cellen per type en\n",
        "    tellingen van per type cel.\n",
        "  \"\"\"\n",
        "\n",
        "  # Bepaal welk type cellen door de integriteitscheck moet worden meegenomen\n",
        "  parse_cells = test_structure_frame[test_structure_frame['class'].apply(lambda x: x in class_types)]\n",
        "\n",
        "  # Maak subsets aan van cellen per type\n",
        "  subsets = {class_type: test_structure_frame[test_structure_frame['class'] == class_type] for class_type in class_types}\n",
        "\n",
        "  # Maak een lijst aan waarin de 'geplaatste' cq. 'gevalideerde cellen' kunnen worden weggeschreven\n",
        "  placed_cells = []\n",
        "\n",
        "  # Maak een dictionary aan om de aantallen per celtype te tellen\n",
        "  count_class_types = {('aantal', class_type): 0 for class_type in class_types}\n",
        "\n",
        "  # itereer door alle artikelaanduidingen\n",
        "  for key_art, start_pos_art, end_pos_art, metadata_class, div_id_class in subsets['artikel'].itertuples(name = None, index = True):\n",
        "\n",
        "    # plaats artikel in de lijst met gevalideerde cellen\n",
        "    placed_cells.append(test_structure_frame.loc[key_art])\n",
        "\n",
        "    count_class_types[('aantal','artikel')] += 1\n",
        "\n",
        "    # itereer door alle lidaanduidingen\n",
        "    for key_lid, start_pos_lid, end_pos_lid, metadata_lid, div_id_lid in subsets['lid'].itertuples(name = None):\n",
        "\n",
        "      if start_pos_lid > start_pos_art and end_pos_lid < end_pos_art:\n",
        "\n",
        "        placed_cells.append(test_structure_frame.loc[key_lid])\n",
        "\n",
        "        count_class_types[('aantal','lid')] += 1\n",
        "\n",
        "      # itereer door alle sublidaanduidingen\n",
        "      for key_sublid, start_pos_sublid, end_pos_sublid, metadata_sublid, div_id_sublid in subsets['sublid'].itertuples(name = None):\n",
        "\n",
        "        if start_pos_sublid > start_pos_lid and end_pos_sublid < end_pos_lid:\n",
        "\n",
        "          placed_cells.append(test_structure_frame.loc[key_sublid])\n",
        "\n",
        "          count_class_types[('aantal','sublid')] += 1\n",
        "\n",
        "  # Als er cellen worden gevonden\n",
        "  if len(placed_cells) > 0:\n",
        "\n",
        "    placed_cells_frame = pd.concat(placed_cells, axis = 1).T\n",
        "\n",
        "    failed_placements = parse_cells.drop(placed_cells_frame.index.values)\n",
        "\n",
        "    failed_placement_count = {('geen plaatsing', class_type): failed_placements[failed_placements['class'] == class_type].shape[0] for class_type in class_types}\n",
        "\n",
        "\n",
        "  else:\n",
        "\n",
        "    failed_placement_count = {('geen plaatsing', class_type): 0 for class_type in class_types}\n",
        "\n",
        "  out_dict = failed_placement_count | count_class_types\n",
        "\n",
        "  return out_dict"
      ]
    },
    {
      "cell_type": "markdown",
      "metadata": {
        "id": "X6fxmxD2MCDy"
      },
      "source": [
        "\n",
        "# Parsing van HTML uitvoeren\n",
        "\n"
      ]
    },
    {
      "cell_type": "markdown",
      "metadata": {
        "id": "m1o3zA99MS0-"
      },
      "source": [
        "## **Beschrijving werkwijze:** ##\n",
        "\n",
        "We hebben een dictionary aangemaakt met daarin per IMRO een lijst met de verschillende links naar de htmls die bij bij deze specifieke IMRO horen.\n",
        "\n",
        "---\n",
        "\n",
        "We extraheren allereerst van iedere html de inhoud de inhoud schrijven we weg in het dictionary html_extracts. Als onderdeel van dit proces houden we een lijst bij van de htmls die niet geëxtraheerd kunnen worden\n",
        "\n",
        "---\n",
        "\n",
        "Vervolgens doorlopen we in een loop alle ruwe html. We doorlopen per html de volgende stappen:\n",
        "\n",
        "\n",
        "1.   Het onderverdelen van de html in 'cellen' met inhoud. Normaliter staat een individueel artikel, lid of sublid om te extraheren in een afgebakende cel. We bepalen welke cellen er in de html staan met de functie **extract_cell_markers_from_html**\n",
        "2.   De structuur van de html is zodanig dat de cellen een 'tree'-structuur hebben: een cel heeft één bovenliggende 'parent'-cell en meerdere onderliggende 'child'-cellen. Deze structuur stellen we vast met de functie **parse_cell_structure**\n",
        "\n"
      ]
    },
    {
      "cell_type": "code",
      "execution_count": null,
      "metadata": {
        "colab": {
          "base_uri": "https://localhost:8080/"
        },
        "id": "IA61use8PCn3",
        "outputId": "39f4e8ea-8792-4bac-97d1-ad4fd6c2ee67"
      },
      "outputs": [
        {
          "output_type": "stream",
          "name": "stdout",
          "text": [
            "Ruwe HTML extraheren: NL.IMRO.0307.BP00070-0303: https://www.amersfoort.nl/ro-online/NL.IMRO.0307.BP00070-0303/r_NL.IMRO.0307.BP00070-0303_2.10.html\n"
          ]
        }
      ],
      "source": [
        "# @title\n",
        "failed_extract_files = []\n",
        "\n",
        "html_extracts = {}\n",
        "\n",
        "for IMRO, link_list in extract_regels_dict.items():\n",
        "\n",
        "  html_extracts[IMRO] = {}\n",
        "\n",
        "  for full_link in link_list:\n",
        "\n",
        "    print(f'Ruwe HTML extraheren: {IMRO}: {full_link}')\n",
        "\n",
        "    try:\n",
        "\n",
        "      raw_extract = extract_raw_html(full_link)\n",
        "\n",
        "    except:\n",
        "\n",
        "      failed_extract_files.append((IMRO, full_link))\n",
        "\n",
        "    html_extracts[IMRO][full_link] = raw_extract"
      ]
    },
    {
      "cell_type": "code",
      "source": [
        "parse_dict_per_IMRO = {}\n",
        "\n",
        "for IMRO in html_extracts.keys():\n",
        "\n",
        "  print('Parsen: ', IMRO)\n",
        "\n",
        "  parse_dict_per_IMRO[IMRO] = {}\n",
        "\n",
        "  for link, response_per_html in html_extracts[IMRO].items():\n",
        "\n",
        "    print('\\t', link)\n",
        "\n",
        "    sorted_marker_tuples = extract_cell_markers_from_html(response_per_html)\n",
        "\n",
        "    html_structure = parse_cell_structure(sorted_marker_tuples)\n",
        "\n",
        "    content_per_cell = bepaal_unieke_content_per_cell(response_per_html, html_structure)\n",
        "\n",
        "    key_per_cell = maak_key_per_cel(content_per_cell)\n",
        "\n",
        "    grouped_cells, grouped_cells_keys = groepeer_cellen_onder_keys(content_per_cell, key_per_cell)\n",
        "\n",
        "    full_cell_keys_per_grouped_cell = bepaal_cellen_volledige_key(grouped_cells_keys)\n",
        "\n",
        "    content_per_key = voeg_key_bij_inhoud(grouped_cells, grouped_cells_keys, full_cell_keys_per_grouped_cell)\n",
        "\n",
        "    clean_content_per_clean_key = opschonen_key_en_inhoud(content_per_key)\n",
        "\n",
        "    parse_dict_per_IMRO[IMRO].update(clean_content_per_clean_key)"
      ],
      "metadata": {
        "colab": {
          "base_uri": "https://localhost:8080/"
        },
        "id": "Kk3HRyi-X7mk",
        "outputId": "fa0c933f-eab2-43c1-95bd-dfcbfd2804d7"
      },
      "execution_count": null,
      "outputs": [
        {
          "output_type": "stream",
          "name": "stdout",
          "text": [
            "Parsen:  NL.IMRO.0307.BP00070-0303\n",
            "\t https://www.amersfoort.nl/ro-online/NL.IMRO.0307.BP00070-0303/r_NL.IMRO.0307.BP00070-0303_2.10.html\n"
          ]
        }
      ]
    }
  ],
  "metadata": {
    "colab": {
      "provenance": [],
      "authorship_tag": "ABX9TyOaaWN3jSEie8BsyE5jHg3z",
      "include_colab_link": true
    },
    "kernelspec": {
      "display_name": "Python 3",
      "name": "python3"
    },
    "language_info": {
      "name": "python"
    }
  },
  "nbformat": 4,
  "nbformat_minor": 0
}